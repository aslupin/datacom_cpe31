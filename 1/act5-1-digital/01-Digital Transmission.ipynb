{
 "cells": [
  {
   "cell_type": "markdown",
   "metadata": {},
   "source": [
    "# การวิเคราะห์สัญญาณดิจิทัล\n",
    "\n",
    "## วัตถุประสงค์\n",
    "วิเคราะห์ความต้องการในการใช้แบนด์วิธด์ของสัญญาณแบบดิจิทัลแต่ละแบบ รวมถึงผลกระทบที่เกิดขึ้นเมื่อส่งสัญญาณผ่านตัวกลางที่มีแบนด์วิธด์จำกัด"
   ]
  },
  {
   "cell_type": "markdown",
   "metadata": {},
   "source": [
    "## การเตรียมตัว\n",
    "เรียกใช้ชุดคำสั่งด้านล่างเพื่อเตรียมสภาพแวดล้อมการโปรแกรมและโหลดไลบรารีที่จำเป็นดังนี้"
   ]
  },
  {
   "cell_type": "code",
   "execution_count": null,
   "metadata": {},
   "outputs": [],
   "source": [
    "from sigproc import Signal, start_notebook\n",
    "bkp = start_notebook()"
   ]
  },
  {
   "cell_type": "markdown",
   "metadata": {},
   "source": [
    "## สร้างสัญญาณดิจิทัล\n",
    "ใช้ฟังก์ชันที่เตรียมไว้ให้ในโมดูล `digital.py` เพื่อสร้างสัญญาณจากบิตข้อมูลโดยใช้การเข้ารหัสสัญญาณดิจิทัลแบบต่าง ๆ"
   ]
  },
  {
   "cell_type": "code",
   "execution_count": null,
   "metadata": {
    "collapsed": true
   },
   "outputs": [],
   "source": [
    "from sigproc.digital import encode\n",
    "\n",
    "data = '0100 1001 0011 1011'\n",
    "# data = '1111111111111111111'\n",
    "bitrate = 300   # บิตต่อวินาที"
   ]
  },
  {
   "cell_type": "markdown",
   "metadata": {},
   "source": [
    "### วิเคราะห์สัญญาณที่ใช้การเข้ารหัสแบบ TTL"
   ]
  },
  {
   "cell_type": "code",
   "execution_count": null,
   "metadata": {},
   "outputs": [],
   "source": [
    "sig_ttl = encode('ttl',bitrate,data)\n",
    "sig_ttl.plot_time()\n",
    "sig_ttl.plot_freq()"
   ]
  },
  {
   "cell_type": "markdown",
   "metadata": {},
   "source": [
    "### วิเคราะห์สัญญาณที่ใช้การเข้ารหัสแบบ NRZ (nonreturn to zero)"
   ]
  },
  {
   "cell_type": "code",
   "execution_count": null,
   "metadata": {},
   "outputs": [],
   "source": [
    "sig_nrz = encode(\"nrz\",bitrate,data)\n",
    "sig_nrz.plot_time()\n",
    "sig_nrz.plot_freq()"
   ]
  },
  {
   "cell_type": "markdown",
   "metadata": {},
   "source": [
    "### วิเคราะห์สัญญาณที่ใช้การเข้ารหัสแบบ RZ (return to zero)"
   ]
  },
  {
   "cell_type": "code",
   "execution_count": null,
   "metadata": {},
   "outputs": [],
   "source": [
    "sig_rz = encode(\"rz\",bitrate,data)\n",
    "sig_rz.plot_time()\n",
    "sig_rz.plot_freq()"
   ]
  },
  {
   "cell_type": "markdown",
   "metadata": {},
   "source": [
    "### วิเคราะห์สัญญาณที่ใช้การเข้ารหัสแบบ Manchester"
   ]
  },
  {
   "cell_type": "code",
   "execution_count": null,
   "metadata": {},
   "outputs": [],
   "source": [
    "sig_manchester = encode(\"manchester\",bitrate,data)\n",
    "sig_manchester.plot_time()\n",
    "sig_manchester.plot_freq()"
   ]
  },
  {
   "cell_type": "markdown",
   "metadata": {},
   "source": [
    "### วิเคราะห์สัญญาณที่ใช้การเข้ารหัสแบบ 2B1Q (2-Binary, 1-Quaternary)"
   ]
  },
  {
   "cell_type": "code",
   "execution_count": null,
   "metadata": {},
   "outputs": [],
   "source": [
    "sig_2b1q = encode(\"2b1q\",bitrate,data)\n",
    "sig_2b1q.plot_time()\n",
    "sig_2b1q.plot_freq()"
   ]
  },
  {
   "cell_type": "markdown",
   "metadata": {},
   "source": [
    "## แบนด์วิธด์ของสัญญาณและแบนด์วิธด์ของสื่อนำสัญญาณ"
   ]
  },
  {
   "cell_type": "markdown",
   "metadata": {},
   "source": [
    "จะเห็นได้จากหัวข้อที่แล้วว่าสัญญาณที่เข้ารหัสแบบดิจิทัลจะมีองค์ประกอบของสัญญาณซายน์ที่มีความถี่ตั้งแต่ 0 Hz ไปจนถึงความถี่อนันต์ อย่างไรก็ตามไม่มีสื่อนำสัญญาณใดที่สามารถส่งผ่านความถี่แบบไม่จำกัดเช่นนี้ได้ หัวข้อนี้จะให้ศึกษาพฤติกรรมของสัญญาณเมื่อถูกส่งผ่านสื่อนำสัญญาณที่มีแบนด์วิธด์จำกัด ซึ่งหมายถึงสื่อที่ยอมให้คลื่นซายน์ในย่านความถี่ย่านหนึ่งผ่านได้ ส่วนความถี่อื่น ๆ จะผ่านไปไม่ได้หรือเล็ดลอดไปได้ด้วยการลดทอนที่สูง\n",
    "\n",
    "ทดลองคัดลอกสัญญาณที่สร้างขึ้นด้วยการเข้ารหัสข้างต้นแล้วใช้เมท็อด `filter()` เพื่อเลือกเฉพาะความถี่ที่ต่ำกว่าค่าที่กำหนดลงมา"
   ]
  },
  {
   "cell_type": "code",
   "execution_count": null,
   "metadata": {},
   "outputs": [],
   "source": [
    "# CUTOFF_FREQ = 500\n",
    "CUTOFF_FREQ = bitrate/2\n",
    "\n",
    "signal = sig_nrz.copy()\n",
    "signal_filtered = signal.copy()\n",
    "signal_filtered.filter(CUTOFF_FREQ)"
   ]
  },
  {
   "cell_type": "markdown",
   "metadata": {},
   "source": [
    "ตรวจสอบผลลัพธ์ที่เกิดขึ้นกับสัญญาณโดยเปรียบเทียบกับสัญญาณดั้งเดิม รวมถึงพล็อตจุด ณ ตำแหน่งกึ่งกลางของช่วงบิตเพื่อตรวจสอบค่า"
   ]
  },
  {
   "cell_type": "code",
   "execution_count": null,
   "metadata": {
    "scrolled": true
   },
   "outputs": [],
   "source": [
    "import numpy as np\n",
    "\n",
    "# fig_f=dict(height=200,x_range=(0,2000),y_range=(0,0.5))\n",
    "# signal.plot_freq(fig_options=fig_f)\n",
    "# signal_filtered.plot_freq(fig_options=fig_f)\n",
    "\n",
    "fig=bkp.figure(height=200)\n",
    "\n",
    "signal.plot_time(fig=fig,line_options=dict(color=\"blue\"))\n",
    "signal_filtered.plot_time(fig=fig,line_options=dict(color=\"red\",line_width=1))\n",
    "\n",
    "bit_interval = 1/bitrate\n",
    "points = np.arange(0,signal.duration,bit_interval)+bit_interval/2\n",
    "ft = signal_filtered.time_function\n",
    "fig.scatter(x=points*1000,y=ft(points),size=5,color=\"green\") \n",
    "bkp.show(fig)\n",
    "print(data)"
   ]
  },
  {
   "cell_type": "markdown",
   "metadata": {},
   "source": [
    "## ทดลองด้วยตนเอง\n",
    "* เปลี่ยน bitrate ของสัญญาณให้สูงขึ้น เช่นเปลี่ยนเป็น 500 บิตต่อวินาที\n",
    "* จำกัดแบนด์วิดธ์กับการเข้ารหัสสัญญาณรูปแบบอื่น ๆ นอกเหนือจาก NRZ\n",
    "* จำกัดแบนด์วิดธ์สำหรับความถี่ต่ำ เพื่อจำลองการส่งสัญญาณผ่านช่องสัญญาณที่มีสมบัติเป็น high-pass filter\n",
    "* ปรับเปลี่ยนบิตข้อมูลเพื่อให้สัญญาณมีคุณสมบัติดังนี้\n",
    "  * เกิด DC component ขึ้นเป็นปริมาณมาก\n",
    "  * เกิดสภาวะที่ระดับสัญญาณไม่เปลี่ยนแปลง ทำให้เสี่ยงต่อการเกิด synchronization loss\n",
    "  * มีแบนด์วิธด์ของสัญญาณ*สูงที่สุด*เท่าที่จะเป็นไปได้\n",
    "  * มีแบนด์วิธด์ของสัญญาณ*ต่ำที่สุด*เท่าที่จะเป็นไปได้"
   ]
  },
  {
   "cell_type": "code",
   "execution_count": null,
   "metadata": {
    "collapsed": true
   },
   "outputs": [],
   "source": []
  }
 ],
 "metadata": {
  "kernelspec": {
   "display_name": "Python 3.6",
   "language": "python",
   "name": "python-3.6"
  },
  "language_info": {
   "codemirror_mode": {
    "name": "ipython",
    "version": 3
   },
   "file_extension": ".py",
   "mimetype": "text/x-python",
   "name": "python",
   "nbconvert_exporter": "python",
   "pygments_lexer": "ipython3",
   "version": "3.6.3"
  }
 },
 "nbformat": 4,
 "nbformat_minor": 1
}
