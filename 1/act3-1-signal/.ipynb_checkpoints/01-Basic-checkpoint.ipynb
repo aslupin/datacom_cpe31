{
 "cells": [
  {
   "cell_type": "markdown",
   "metadata": {
    "slideshow": {
     "slide_type": "slide"
    }
   },
   "source": [
    "# รู้จักกับ Jupyter Notebook และโมดูล `sigproc.py`"
   ]
  },
  {
   "cell_type": "markdown",
   "metadata": {},
   "source": [
    "เอกสารโน้ตบุ๊คเล่มนี้จัดทำขึ้นเพื่อสาธิตการใช้งานโมดูล `sigproc.py` ในการประมวลผลและวิเคราะห์สัญญาณ ซึ่งเป็นส่วนหนึ่งของการเรียนการสอนวิชา 01204325 การสื่อสารข้อมูลและเครือข่ายคอมพิวเตอร์ ไลบรารีหลักที่นำมาใช้งานในโมดูลมีดังนี้ (ทั้งหมดมีอยู่แล้วใน Anaconda)\n",
    "\n",
    "* [NumPy](http://www.numpy.org) สำหรับการประมวลผลเชิงแมตริกซ์\n",
    "* [SciPy](http://www.scipy.org) สำหรับการคำนวณ FFT รวมถึงการอ่านและเขียนไฟล์ .wav\n",
    "* [Pandas](http://pandas.pydata.org) สำหรับการรวบรวมข้อมูลในรูปตาราง\n",
    "* [Bokeh](http://bokeh.pydata.org/en/latest/index.html) ในการสร้างแผนภูมิและกราฟ\n",
    "\n",
    "## วัตถุประสงค์\n",
    "1. สร้างความคุ้นเคยกับอินเตอร์เฟสของ Jupyter (IPython) Notebook\n",
    "1. เข้าใจคุณสมบัติของคลื่นที่อยู่ในรูปฟังก์ชันซายน์ ซึ่งประกอบไปด้วยแอพลิจูด ความถี่ และเฟส\n",
    "1. เข้าใจการมองสัญญาณในเชิงเวลา (time domain) และเชิงความถี่ (frequency domain)"
   ]
  },
  {
   "cell_type": "markdown",
   "metadata": {
    "slideshow": {
     "slide_type": "slide"
    }
   },
   "source": [
    "## การเตรียมตัว"
   ]
  },
  {
   "cell_type": "markdown",
   "metadata": {},
   "source": [
    "อิมพอร์ตโมดูล `sigproc` จากนั้นเรียกใช้ฟังก์ชัน `start_notebook()` เพื่อเริ่มต้นใช้งานดังนี้"
   ]
  },
  {
   "cell_type": "code",
   "execution_count": null,
   "metadata": {
    "slideshow": {
     "slide_type": "-"
    }
   },
   "outputs": [],
   "source": [
    "from sigproc import Signal,start_notebook\n",
    "bkp = start_notebook()"
   ]
  },
  {
   "cell_type": "markdown",
   "metadata": {
    "slideshow": {
     "slide_type": "slide"
    }
   },
   "source": [
    "## สร้างสัญญาณจากการผสมคลื่นซายน์"
   ]
  },
  {
   "cell_type": "markdown",
   "metadata": {},
   "source": [
    "รูปแบบทั่วไปของคลื่นซายน์สามารถเขียนได้ตามฟังก์ชัน\n",
    "$$s(t) = A\\cdot\\sin(2\\pi ft + \\phi)$$\n",
    "โดยที่\n",
    "* $A$ คือแอพลิจูด (amplitude)\n",
    "* $f$ คือความถี่ (frequency) มีหน่วยเป็นเฮิร์ตซ์ (Hz)\n",
    "* $\\phi$ คือเฟสชิฟต์ (phase shift) มีหน่วยเป็นเรเดียน"
   ]
  },
  {
   "cell_type": "markdown",
   "metadata": {
    "slideshow": {
     "slide_type": "slide"
    }
   },
   "source": [
    "โค้ดด้านล่างนิยามฟังก์ชันสำหรับสร้างคลื่นซายน์ 3 รูปแบบเพื่อนำไปสร้างเป็นสัญญาณด้วยโมดูล sigproc และพล็อตเป็นกราฟเชิงเวลา"
   ]
  },
  {
   "cell_type": "code",
   "execution_count": null,
   "metadata": {},
   "outputs": [],
   "source": [
    "from numpy import sin,pi\n",
    "\n",
    "def sine1(t):\n",
    "    return 1*sin(2*pi*1*t)\n",
    "\n",
    "def sine2(t):\n",
    "    return 1/3*sin(2*pi*3*t)\n",
    "\n",
    "def sine3(t):\n",
    "    return 1/5*sin(2*pi*5*t)\n",
    "\n",
    "s1 = Signal(func=sine1)\n",
    "s2 = Signal(func=sine2)\n",
    "s3 = Signal(func=sine3)\n",
    "\n",
    "s1.plot_time()\n",
    "s2.plot_time()\n",
    "s3.plot_time()"
   ]
  },
  {
   "cell_type": "markdown",
   "metadata": {
    "slideshow": {
     "slide_type": "slide"
    }
   },
   "source": [
    "### การผสมสัญญาณ\n",
    "โมดูล `sigproc` เตรียมฟังก์ชันและตัวดำเนินการที่หลากหลายเพื่อใช้ในการประมวลผลสัญญาณเบื้องต้น สัญญาณที่สร้างขึ้นมาทั้ง 3 สัญญาณสามารถนำมาผสมกันเป็นสัญญาณใหม่ได้โดยใช้ตัวดำเนินการ `+` ดังนี้"
   ]
  },
  {
   "cell_type": "code",
   "execution_count": null,
   "metadata": {},
   "outputs": [],
   "source": [
    "s = s1+s2+s3\n",
    "s.plot_time(line_options=dict(color=\"orange\",line_width=5))"
   ]
  },
  {
   "cell_type": "markdown",
   "metadata": {},
   "source": [
    "เรียกใช้พร็อพเพอร์ตี `time_domain` เพื่อดึงข้อมูลของสัญญาณในรูปฟังก์ชันของเวลา ข้อมูลที่ส่งกลับมาจะอยู่ในรูปตารางที่ประกอบไปด้วยคอลัมน์ `t` แทนค่าเวลา และคอลัมน์ `a` แทนแอมพลิจูดของสัญญาณ ณ เวลาหนึ่ง ๆ"
   ]
  },
  {
   "cell_type": "code",
   "execution_count": null,
   "metadata": {},
   "outputs": [],
   "source": [
    "ts = s.time_domain\n",
    "ts"
   ]
  },
  {
   "cell_type": "markdown",
   "metadata": {},
   "source": [
    "## การวิเคราะห์ความถี่ของสัญญาณ\n",
    "ตามหลักการของ Fourier สัญญาณทุกสัญญาณสามารถตีความเป็นสัญญาณที่เกิดจากการนำเอาฟังก์ชันซายน์หลาย ๆ ฟังก์ชันมาผสมกันได้ ซึ่งเป็นการมองสัญญาณในเชิงความถี่ (frequency domain)\n",
    "\n",
    "ใช้พร็อพเพอร์ตี `freq_domain` เพื่อตีความสัญญาณใน frequency domain โดยค่าที่ส่งคืนมาให้จะอยู่ในรูปตารางที่มี 3 คอลัมน์ คือ\n",
    "* `f` แทนความถี่เป็นเฮิร์ตซ์\n",
    "* `a` แทนแอพลิจูดสูงสุดของสัญญาณซายน์ในความถี่นั้น\n",
    "* `p` แทนเฟสชิฟต์ของสัญญาณซายน์ในความถี่นั้น เทียบกับ_ฟังก์ชันโคซายน์_"
   ]
  },
  {
   "cell_type": "code",
   "execution_count": null,
   "metadata": {},
   "outputs": [],
   "source": [
    "fs = s.freq_domain\n",
    "fs"
   ]
  },
  {
   "cell_type": "markdown",
   "metadata": {},
   "source": [
    "ทดลองนำเอาข้อมูลเชิงความถี่มาพล็อตเป็นกราฟแท่งโดยใช้เมท็อด `plot_freq()` เพื่อดูแอมพลิจูดของแต่ละความถี่ และ `plot_phase()` เพื่อดูเฟสชิฟท์ \n",
    "\n",
    "อย่างไรก็ตามจากตารางข้างต้นจะเห็นว่าข้อมูลประกอบไปด้วยความถี่ตั้งแต่ 0 Hz ถึง 11025 Hz และค่าแอมพลิจูดของความถี่ส่วนใหญ่มีค่าน้อยมาก ๆ เราจึงจะเลือกแสดงเฉพาะความถี่ที่มีค่ามากกว่า 0.01 ดังโค้ดด้านล่าง"
   ]
  },
  {
   "cell_type": "code",
   "execution_count": null,
   "metadata": {
    "slideshow": {
     "slide_type": "slide"
    }
   },
   "outputs": [],
   "source": [
    "s.plot_freq(min_amplitude=0.01,fig_options=dict(height=200))\n",
    "s.plot_phase(min_amplitude=0.01,fig_options=dict(height=200))"
   ]
  },
  {
   "cell_type": "markdown",
   "metadata": {},
   "source": [
    "## การนำเข้าข้อมูลสัญญาณจากไฟล์ .wav\n",
    "คลาส `Signal` รองรับการนำเข้าข้อมูลสัญญาณจากไฟล์ .wav โดยระบุคีย์เวิร์ดอาร์กิวเมนต์ `wav_file` ดังตัวอย่าง"
   ]
  },
  {
   "cell_type": "code",
   "execution_count": null,
   "metadata": {},
   "outputs": [],
   "source": [
    "wav = Signal(wav_file='piano-c4.wav')"
   ]
  },
  {
   "cell_type": "markdown",
   "metadata": {},
   "source": [
    "ซึ่งสามารถนำข้อมูลมาวิเคราะห์และแสดงผลได้เหมือนตัวอย่างที่ผ่านมา"
   ]
  },
  {
   "cell_type": "code",
   "execution_count": null,
   "metadata": {},
   "outputs": [],
   "source": [
    "figop = dict(y_range=None)  # use automatic y-range\n",
    "wav.plot_time(fig_options=figop)\n",
    "wav.plot_freq(fig_options=figop)\n",
    "wav.plot_phase()"
   ]
  },
  {
   "cell_type": "markdown",
   "metadata": {},
   "source": [
    "## ของแถม: เล่นเสียงจากข้อมูลสัญญาณ\n",
    "คลาส `Signal` เตรียมเมท็อด `play()` สำหรับนำข้อมูลสัญญาณมาเล่นเป็นข้อมูลเสียง"
   ]
  },
  {
   "cell_type": "code",
   "execution_count": null,
   "metadata": {},
   "outputs": [],
   "source": [
    "wav.play()"
   ]
  },
  {
   "cell_type": "markdown",
   "metadata": {},
   "source": [
    "ตัวอย่างด้านล่างแสดงการผสมคลื่นซายน์ 3 ความถี่เพื่อให้ได้เสียงเป็นคอร์ด C"
   ]
  },
  {
   "cell_type": "code",
   "execution_count": null,
   "metadata": {},
   "outputs": [],
   "source": [
    "# สร้างสัญญาณเปล่าที่มีความยาว 2 วินาที\n",
    "chord_c = Signal(duration=2)\n",
    "\n",
    "# กำหนดความถี่และแอมพลิจูดลงในสัญญาณโดยตรง\n",
    "chord_c.set_freq(262,0.3,90) # โน้ต C\n",
    "chord_c.set_freq(330,0.3,90) # โน้ต E\n",
    "chord_c.set_freq(392,0.3,90) # โน้ต G\n",
    "\n",
    "# แสดงกราฟในเชิงเวลาและความถี่\n",
    "chord_c.plot_time()\n",
    "chord_c.plot_freq()\n",
    "\n",
    "# เล่นสัญญาณในรูปข้อมูลเสียง\n",
    "chord_c.play()"
   ]
  },
  {
   "cell_type": "code",
   "execution_count": null,
   "metadata": {},
   "outputs": [],
   "source": []
  }
 ],
 "metadata": {
  "kernelspec": {
   "display_name": "Python 3",
   "language": "python",
   "name": "python3"
  },
  "language_info": {
   "codemirror_mode": {
    "name": "ipython",
    "version": 3
   },
   "file_extension": ".py",
   "mimetype": "text/x-python",
   "name": "python",
   "nbconvert_exporter": "python",
   "pygments_lexer": "ipython3",
   "version": "3.7.2"
  }
 },
 "nbformat": 4,
 "nbformat_minor": 1
}
