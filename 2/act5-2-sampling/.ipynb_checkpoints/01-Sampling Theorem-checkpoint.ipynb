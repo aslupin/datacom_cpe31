{
 "cells": [
  {
   "cell_type": "markdown",
   "metadata": {},
   "source": [
    "# ทฤษฎีการสุ่มสัญญาณ (Sampling Theorem)\n",
    "\n",
    "## วัตถุประสงค์\n",
    "* เข้าใจกระบวนการ ข้อจำกัด และการเลือกใช้อัตราการสุ่มสัญญาณที่เหมาะสม\n",
    "* เข้าใจถึงผลกระทบที่เกิดขึ้นจากการใช้อัตราการสุ่มที่ต่ำเกินไป"
   ]
  },
  {
   "cell_type": "markdown",
   "metadata": {},
   "source": [
    "## การสุ่มสัญญาณคลื่นซายน์ และ alias\n",
    "**ทฤษฎีบท 1:** กำหนดให้ $F_s > 0$ และ $k$ เป็นจำนวนเต็มใด ๆ สัญญาณซายน์ที่ความถี่ $f+kF_s$ จะให้ผลลัพธ์ของการสุ่มเท่ากันเสมอเมื่อถูกสุ่มด้วยอัตรา $F_s$ ครั้งต่อวินาที\n",
    "\n",
    "**พิสูจน์:** ให้ $F_s > 0$ และ $k \\in \\mathcal{Z}$ (โดยที่ $\\mathcal{Z}$ แทนเซ็ตของจำนวนเต็ม) พิจารณาสัญญาณ $x(t)$ ที่มีความถี่ $f+kF_s$ ดังนี้\n",
    "\n",
    "\\begin{equation}\n",
    "x(t) = \\sin 2\\pi (f+kF_s)t\n",
    "\\end{equation}\n",
    "\n",
    "เมื่อสัญญาณนี้ถูกสุ่มด้วยอัตรา $F_s$ ครั้งต่อวินาที จะได้ว่าสัญญาณถูกสุ่มค่าที่เวลา $t=\\frac{n}{F_s}$ โดยที่ $n = 0,1,2,\\ldots$ ดังนั้นค่าของสัญญาณที่สุ่มได้คือ\n",
    "\\begin{eqnarray*}\n",
    "x(n/F_s) \n",
    "    &=& \\sin 2\\pi \\frac{(f+kF_s)n}{F_s} \\\\\n",
    "    &=& \\sin \\left(\\frac{2\\pi fn}{F_s} + 2\\pi \\frac{kF_sn}{F_s}\\right) \\\\\n",
    "    &=& \\sin \\left(\\frac{2\\pi fn}{F_s} + 2\\pi kn\\right)\n",
    "\\end{eqnarray*}\n",
    "\n",
    "เนื่องจาก $k \\in \\mathcal{Z}$ และ $n \\in \\mathcal{N}$ ทำให้ $kn$ เป็นจำนวนเต็มเสมอ และเนื่องจากฟังก์ชันซายน์เป็นฟังก์ชันคาบที่มีช่วงคาบเท่ากับ $2\\pi$ จึงได้ว่า\n",
    "\n",
    "$$x(n/F_s) = \\sin \\frac{2\\pi fn}{F_s}$$\n",
    "\n",
    "ซึ่งมีค่าเท่ากับสัญญาณ $\\sin 2\\pi ft$ (หรือสัญญาณซายน์ที่ความถี่ $f$) เมื่อ $t$ มีค่าเท่ากับ $\\frac{n}{F_s}$\n",
    "\n",
    "$\\square$\n",
    "\n",
    "สัญญาณคลื่นซายน์ความถี่อื่น ๆ ที่ให้ค่าเดียวกันทุกประการกับสัญญาณซายน์ที่ความถี่ $f$ เมื่อผ่านกระบวนการสุ่มสัญญาณถูกเรียกว่าเป็น alias ของสัญญาณซายน์ความถี่ $f$ ซึ่งไม่สามารถถูกแยกแยะที่ปลายทางได้ว่าค่าที่สุ่มมานั้นเกิดจากสัญญาณ $f$ หรือ alias ของมันกันแน่"
   ]
  },
  {
   "cell_type": "markdown",
   "metadata": {},
   "source": [
    "### ตัวอย่าง\n",
    "เบื้องต้นกำหนดค่าเริ่มต้นและโหลดไลบรารีที่จำเป็นดังนี้"
   ]
  },
  {
   "cell_type": "code",
   "execution_count": null,
   "metadata": {},
   "outputs": [],
   "source": [
    "import numpy as np\n",
    "from sigproc import Signal,start_notebook\n",
    "bkp = start_notebook()"
   ]
  },
  {
   "cell_type": "markdown",
   "metadata": {},
   "source": [
    "กำหนดตัวแปร `f` เป็นความถี่ให้กับสัญญาณคลื่นซายน์ ตัวแปร `Fs` เป็นอัตราการสุ่มสัญญาณ และตัวแปร `k` เพื่อใช้คำนวณความถี่ของสัญญาณที่เป็น alias ของสัญญาณความถี่ `f` ดังนี้ (ทดลองปรับเปลี่ยนค่า `f`, `Fs` และ `k` ได้ตามใจชอบ)"
   ]
  },
  {
   "cell_type": "code",
   "execution_count": null,
   "metadata": {},
   "outputs": [],
   "source": [
    "f = 5    # signal frequency\n",
    "Fs = 6   # sampling rate\n",
    "k = 2   # multiplier\n",
    "\n",
    "f_alias = f+(k*Fs)\n",
    "\n",
    "print('f =',f,'Hz')\n",
    "print('Fs =',Fs,'Hz')\n",
    "print('f_alias =',f_alias,'Hz')"
   ]
  },
  {
   "cell_type": "markdown",
   "metadata": {},
   "source": [
    "พล็อตสัญญาณความถี่ `f` และ `f_alias` ในโดเมนเวลา พร้อมกับจุดที่สัญญาณความถี่ `f` ถูกสุ่มวัดด้วยอัตรา `Fs`"
   ]
  },
  {
   "cell_type": "code",
   "execution_count": null,
   "metadata": {},
   "outputs": [],
   "source": [
    "def signal_func(t):\n",
    "    return np.sin(2*np.pi*f*t)\n",
    "\n",
    "def alias_func(t):\n",
    "    return np.sin(2*np.pi*f_alias*t)\n",
    "\n",
    "sig = Signal(func=signal_func)\n",
    "alias = Signal(func=alias_func)\n",
    "\n",
    "fig = bkp.figure(plot_height=300)\n",
    "\n",
    "# พล็อตกราฟของสัญญาณความถี่ f\n",
    "sig.plot_time(fig=fig,line_options=dict(color=\"blue\",line_width=2))\n",
    "\n",
    "# พล็อตกราฟของสัญญาณความถี่ f_alias\n",
    "alias.plot_time(fig=fig,line_options=dict(color=\"green\",line_width=1))\n",
    "\n",
    "# พล็อตจุดที่สัญญาณความถี่ f ถูกสุ่มวัดค่าด้วยอัตรา Fs ครั้งต่อวินาที\n",
    "sampling = np.arange(0,sig.duration,1/Fs)\n",
    "fig.circle(sampling*1000,signal_func(sampling),size=10,color=\"red\",alpha=0.5)\n",
    "\n",
    "bkp.show(fig)"
   ]
  },
  {
   "cell_type": "markdown",
   "metadata": {},
   "source": [
    "## อัตราสุ่มที่เหมาะสมและ Nyquist Rate\n",
    "โดยทั่วไปสัญญาณสุ่มจะถูกกรองโดย low-pass filter ที่ฝั่งรับสัญญาณ ทำให้ค่าการสุ่มถูกตีความเป็นสัญญาณ alias ที่มีความถี่ต่ำที่สุด จากตัวอย่างข้างต้นจะเห็นได้ว่าอัตราการสุ่ม $F_s$ ที่ต่ำเกินไปมีผลทำให้เกิด alias ที่มีความถี่ต่ำกว่าความถี่ตั้งต้น ทำให้ฝั่งรับตีความสัญญาณผิดพลาดไปจากสัญญาณต้นฉบับ\n",
    "\n",
    "ดังนั้นอัตราการสุ่มสัญญาณจำเป็นต้องสูงเพียงพอที่จะ*ไม่*ทำให้เกิด alias ที่มีความถี่ต่ำกว่าสัญญาณต้นฉบับ พิจารณากรณีที่ $f>0$ เงื่อนไขด้านล่างต้องเป็นจริงสำหรับทุก $k\\in\\mathcal{Z}, k \\neq 0$\n",
    "\n",
    "$$|f+kF_s| > f$$\n",
    "\n",
    "จะได้ว่า\n",
    "\\begin{eqnarray*}\n",
    "|f+kF_s|^2 &>& f^2 \\\\\n",
    "f^2 + 2fkF_s + k^2F_s^2 &>& f^2 \\\\\n",
    "k^2F_s &>& -2fk\\\\\n",
    "\\end{eqnarray*}\n",
    "\n",
    "อสมการข้างต้นเป็นจริงในทุกกรณีที่ $k=1,2,3,\\ldots$ (เนื่องจากฝั่งซ้ายเป็นบวกเสมอและฝั่งขวาเป็นลบเสมอ) แต่ถ้าหาก $k$ มีค่าติดลบจะได้ว่า\n",
    "\n",
    "$$|k|F_s > 2f$$\n",
    "\n",
    "ซึ่งเป็นจริงได้ทุกกรณีของค่า $k$ ก็ต่อเมื่อ\n",
    "\n",
    "$$F_s > 2f$$\n",
    "\n",
    "ดังนั้นการสุ่มสัญญาณที่จะไม่ทำให้เกิด alias ที่มีความถี่ต่ำกว่าสัญญาณต้นฉบับจะต้องทำด้วยอัตราที่<u>ไม่ต่ำกว่าสองเท่าของความถี่สัญญาณต้นฉบับ</u> ซึ่งเราเรียกอัตราความถี่สองเท่าของความถี่สัญญาณต้นฉบับนี้ว่า *Nyquist Rate*"
   ]
  }
 ],
 "metadata": {
  "kernelspec": {
   "display_name": "Python 3",
   "language": "python",
   "name": "python3"
  },
  "language_info": {
   "codemirror_mode": {
    "name": "ipython",
    "version": 3
   },
   "file_extension": ".py",
   "mimetype": "text/x-python",
   "name": "python",
   "nbconvert_exporter": "python",
   "pygments_lexer": "ipython3",
   "version": "3.7.2"
  }
 },
 "nbformat": 4,
 "nbformat_minor": 1
}
