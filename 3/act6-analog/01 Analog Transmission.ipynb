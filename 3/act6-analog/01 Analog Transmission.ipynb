{
 "cells": [
  {
   "cell_type": "markdown",
   "metadata": {
    "slideshow": {
     "slide_type": "slide"
    }
   },
   "source": [
    "# การส่งข้อมูลดิจิทัลด้วยสัญญาณแบบแอนะล็อก\n",
    "\n",
    "ช่องสัญญาณบางอย่างมีการจำกัดความถี่ต่ำสุดและสูงสุดที่ยอมให้สัญญาณผ่านไปได้ เช่นสายโทรศัพท์ยอมให้สัญญาณเสียงผ่านในช่วง 300-3000 Hz ส่วนช่องสัญญาณสำหรับใช้งานแลนไร้สายมาตรฐานหนึ่งยอมให้สัญญาณวิทยุผ่านในช่วง 2400-2500 MHz เป็นต้น\n",
    "\n",
    "ในกรณีนี้การส่งข้อมูลโดยใช้สัญญาณแบบดิจิทัล (ซึ่งเรียกว่า baseband transmission) ไม่สามารถทำได้เนื่องจากพลังงานของสัญญาณส่วนใหญ่กระจายตัวอยู่ในบริเวณย่านความถี่ต่ำ จึงต้องมีกระบวนการโยกย้ายความถี่ของสัญญาณให้ไปอยู่ในย่ายที่ต้องการ ซึ่งเรียกว่ากระบวนการมอดูเลชัน (modulation)\n",
    "\n",
    "## วัตถุประสงค์\n",
    "* เข้าใจถึงข้อจำกัดของการส่งสัญญาณแบบดิจิทัล (baseband tranmission) ผ่านช่องสัญญาณที่มีการจำกัดความถี่ต่ำสุดและสูงสุด (bandpass channel) \n",
    "* รู้จักกระบวนการทำมอดูเลชันแบบต่าง ๆ รวมถึงความต้องการการใช้แบนด์วิธด์ที่แตกต่างกัน\n",
    "* เข้าใจความหมายของ constellation diagram รวมถึงความสัมพันธ์ระหว่าง bit rate และ baud rate"
   ]
  },
  {
   "cell_type": "markdown",
   "metadata": {
    "slideshow": {
     "slide_type": "slide"
    }
   },
   "source": [
    "## การเตรียมตัว\n",
    "รันคำสั่งในเซลล์ต่อไปนี้เพื่อโหลดไลบรารีและตั้งค่าอื่น ๆ ที่ใช้งานเหมือนที่ผ่านมา"
   ]
  },
  {
   "cell_type": "code",
   "execution_count": null,
   "metadata": {},
   "outputs": [],
   "source": [
    "from sigproc import Signal, start_notebook, DEFAULT_PLOT_SETTINGS\n",
    "from numpy import sin,cos,pi\n",
    "from sigproc.digital import create_linecoder\n",
    "\n",
    "bkp = start_notebook()\n",
    "\n",
    "# ตั้งค่าให้กราฟเตี้ยลง\n",
    "DEFAULT_PLOT_SETTINGS[\"time_fig_options\"][\"height\"] = 200\n",
    "DEFAULT_PLOT_SETTINGS[\"freq_fig_options\"][\"height\"] = 200\n",
    "DEFAULT_PLOT_SETTINGS[\"time_freq_fig_options\"][\"height\"] = 200"
   ]
  },
  {
   "cell_type": "markdown",
   "metadata": {},
   "source": [
    "## กำหนดค่าตัวแปรที่ใช้ร่วมกัน\n",
    "เซลล์ด้านล่างนิยามตัวแปรเอาไว้ใช้ในการสร้างกลไกมอดูเลชันและข้อมูลที่จะนำมาสร้างเป็นสัญญาณ กลับมาแก้ไขและรันเซลล์นี้ใหม่เพื่อศึกษาพฤติกรรมของสัญญาณที่ถูกสร้างขึ้นด้วยข้อมูลและการตั้งค่าที่แตกต่างกัน"
   ]
  },
  {
   "cell_type": "code",
   "execution_count": null,
   "metadata": {
    "collapsed": true
   },
   "outputs": [],
   "source": [
    "CARRIER_FREQ = 20   # ความถี่ของคลื่นพาหะ\n",
    "BAUD = 10           # อัตราส่งสัญญาณ (ซิมโบลต่อวินาที)\n",
    "DATA = '00011011'   # ข้อมูลดิจิทัลที่ต้องการส่ง\n",
    "fig_options = dict(x_range=(-10,200))"
   ]
  },
  {
   "cell_type": "markdown",
   "metadata": {},
   "source": [
    "## มอดูเลชันแบบ Binary Amplitude Shift Keying (ASK)\n",
    "ASK ใช้ค่าแอมพลิจูดของคลื่นพาหะเป็นตัวบ่งชี้ค่าบิตข้อมูลทีละบิต\n",
    "\n",
    "![วงจรมอดูเลชันแบบ ASK](pics/ask-circuit.png)"
   ]
  },
  {
   "cell_type": "code",
   "execution_count": null,
   "metadata": {},
   "outputs": [],
   "source": [
    "print(\"Baseband ASK signal (data bits = {})\".format(DATA))\n",
    "ask_linecoder = create_linecoder(BAUD,{'0':0.5,'1':1.0})\n",
    "ask_baseband = ask_linecoder(DATA)\n",
    "ask_baseband.plot_time_and_freq(ffig_options=fig_options)\n",
    "\n",
    "print(\"Carrier signal\")\n",
    "ask_carrier = Signal(duration=ask_baseband.duration,func=lambda t:sin(2*pi*CARRIER_FREQ*t))\n",
    "ask_carrier.plot_time_and_freq(ffig_options=fig_options)\n",
    "\n",
    "print(\"Modulated signal\")\n",
    "ask_modulated = ask_baseband*ask_carrier\n",
    "ask_modulated.plot_time_and_freq(ffig_options=fig_options)"
   ]
  },
  {
   "cell_type": "markdown",
   "metadata": {},
   "source": [
    "## มอดูเลชันแบบ On-Off Keying (OOK)\n",
    "OOK เป็นรูปแบบหนึ่งของ Binary ASK โดยที่ใช้แอมพลิจูดเท่ากับศูนย์แทนบิตข้อมูล 0 "
   ]
  },
  {
   "cell_type": "code",
   "execution_count": null,
   "metadata": {},
   "outputs": [],
   "source": [
    "print(\"Baseband OOK signal (data bits = {})\".format(DATA))\n",
    "ook_linecoder = create_linecoder(BAUD,{'0':0.0,'1':1.0})\n",
    "ook_baseband = ook_linecoder(DATA)\n",
    "ook_baseband.plot_time_and_freq(ffig_options=fig_options)\n",
    "\n",
    "# print(\"Carrier signal\")\n",
    "ook_carrier = Signal(duration=ook_baseband.duration,func=lambda t:sin(2*pi*CARRIER_FREQ*t))\n",
    "# ook_carrier.plot_time(ffig_options=fig_options)\n",
    "\n",
    "print(\"Modulated signal\")\n",
    "ook_modulated = ook_baseband*ook_carrier\n",
    "ook_modulated.plot_time_and_freq(ffig_options=fig_options)"
   ]
  },
  {
   "cell_type": "markdown",
   "metadata": {},
   "source": [
    "## มอดูเลชันแบบ Binary Phase Shift Keying (BPSK)\n",
    "PSK ใช้ค่าเฟสของคลื่นพาหะเป็นตัวบ่งชี้ค่าบิตข้อมูล โดยใช้รูปแบบคลื่นที่มีเฟสแตกต่างกัน 2 รูปแบบ\n",
    "![วงจรมอดูเลชันแบบ BPSK](pics/bpsk-circuit.png)"
   ]
  },
  {
   "cell_type": "code",
   "execution_count": null,
   "metadata": {},
   "outputs": [],
   "source": [
    "print(\"Baseband BPSK signal (data bits = {})\".format(DATA))\n",
    "bpsk_linecoder = create_linecoder(BAUD,{'0':-1.0,'1':1.0})\n",
    "bpsk_baseband = bpsk_linecoder(DATA)\n",
    "bpsk_baseband.plot_time_and_freq(ffig_options=fig_options)\n",
    "\n",
    "print(\"Carrier signal\")\n",
    "bpsk_carrier = Signal(duration=bpsk_baseband.duration,func=lambda t:sin(2*pi*CARRIER_FREQ*t))\n",
    "bpsk_carrier.plot_time_and_freq(ffig_options=fig_options)\n",
    "\n",
    "print(\"Modulated signal\")\n",
    "bpsk_modulated = bpsk_baseband*bpsk_carrier\n",
    "bpsk_modulated.plot_time_and_freq(ffig_options=fig_options)"
   ]
  },
  {
   "cell_type": "markdown",
   "metadata": {
    "collapsed": true
   },
   "source": [
    "## มอดูเลชันแบบ Quadrature Phase Shift Keying (QPSK)\n",
    "เป็น PSK แบบที่ใช้รูปแบบคลื่นที่เฟสแตกต่างกัน 4 รูปแบบ ทำให้ 1 รูปคลื่นแทนค่าข้อมูลได้ 2 บิต (2 bits/symbol) วงจรสร้างสัญญาณอย่างง่ายอาศัยการสร้างคลื่นซายน์ที่มีมุมแตกต่างกัน $90^\\circ$ เพื่อนำมาผสมกันให้ได้รูปคลื่นที่มีเฟส 4 รูปแบบคือ $45^\\circ$, $135^\\circ$, $-45^\\circ$ และ $-135^\\circ$\n",
    "![วงจรมอดูเลชันแบบ QPSK](pics/qpsk-circuit.png)"
   ]
  },
  {
   "cell_type": "markdown",
   "metadata": {},
   "source": [
    "แยกข้อมูลออกเป็นสองสาย บิตในตำแหน่งคู่ และบิตในตำแหน่งคี่ พร้อมสร้าง line coder สำหรับสร้างสัญญาณดิจิทัลจากข้อมูลไบนารี"
   ]
  },
  {
   "cell_type": "code",
   "execution_count": null,
   "metadata": {},
   "outputs": [],
   "source": [
    "data1 = DATA[::2]   # เลือกเฉพาะบิตในตำแหน่งคู่\n",
    "data2 = DATA[1::2]  # เลือกเฉพาะบิตในตำแหน่งคี่\n",
    "print(\"Original data bits = {}\".format(DATA))\n",
    "print(\"Split into two parts: {} and {}\".format(data1,data2))\n",
    "\n",
    "qpsk_linecoder = create_linecoder(BAUD,{'0':-0.5,'1':0.5})"
   ]
  },
  {
   "cell_type": "markdown",
   "metadata": {},
   "source": [
    "สร้าง modulated signal สำหรับบิตในตำแหน่งคู่"
   ]
  },
  {
   "cell_type": "code",
   "execution_count": null,
   "metadata": {},
   "outputs": [],
   "source": [
    "print(\"Baseband signal for even-positioned bits ({})\".format(data1))\n",
    "qpsk_baseband1 = qpsk_linecoder(data1)\n",
    "qpsk_baseband1.plot_time_and_freq(ffig_options=fig_options)\n",
    "\n",
    "print(\"Carrier signal for even-positioned bits\")\n",
    "qpsk_carrier1 = Signal(duration=qpsk_baseband1.duration,func=lambda t:sin(2*pi*CARRIER_FREQ*t))\n",
    "qpsk_carrier1.plot_time_and_freq(ffig_options=fig_options)\n",
    "\n",
    "print(\"Modulated signal for even-positioned bits\")\n",
    "qpsk_modulated1 = qpsk_baseband1*qpsk_carrier1\n",
    "qpsk_modulated1.plot_time_and_freq(ffig_options=fig_options)"
   ]
  },
  {
   "cell_type": "markdown",
   "metadata": {},
   "source": [
    "สร้าง modulated signal สำหรับบิตในตำแหน่งคู่ สังเกตว่า carrier signal มีเฟสนำหน้า carrier signal ของบิตคู่อยู่ $90^\\circ$ (ใช้ฟังก์ชัน cosine)"
   ]
  },
  {
   "cell_type": "code",
   "execution_count": null,
   "metadata": {},
   "outputs": [],
   "source": [
    "print(\"Baseband signal for odd-positioned bits ({})\".format(data2))\n",
    "qpsk_baseband2 = qpsk_linecoder(data2)\n",
    "qpsk_baseband2.plot_time_and_freq(ffig_options=fig_options)\n",
    "\n",
    "print(\"Carrier signal for odd-positioned bits\")\n",
    "qpsk_carrier2 = Signal(duration=qpsk_baseband1.duration,func=lambda t:cos(2*pi*CARRIER_FREQ*t))\n",
    "qpsk_carrier2.plot_time_and_freq(ffig_options=fig_options)\n",
    "\n",
    "print(\"Modulated signal for odd-positioned bits\")\n",
    "qpsk_modulated2 = qpsk_baseband2*qpsk_carrier2\n",
    "qpsk_modulated2.plot_time_and_freq(ffig_options=fig_options)"
   ]
  },
  {
   "cell_type": "markdown",
   "metadata": {},
   "source": [
    "นำสองสัญญาณมาผสมกันเพื่อให้ได้เป็นสัญญาณลัพธ์"
   ]
  },
  {
   "cell_type": "code",
   "execution_count": null,
   "metadata": {},
   "outputs": [],
   "source": [
    "print(\"Original data bits: {}\".format(DATA))\n",
    "qpsk_modulated = qpsk_modulated1 + qpsk_modulated2\n",
    "qpsk_modulated.plot_time_and_freq(ffig_options=fig_options)"
   ]
  },
  {
   "cell_type": "markdown",
   "metadata": {},
   "source": [
    "## ผลกระทบที่เกิดจากช่องสัญญาณแบบ band-pass\n",
    "ทดลองนำเอาสัญญาณที่ผ่านกระบวนการ modulation ข้างต้นมาผ่าน band-pass filter เพื่อดูผลกระทบต่อตัวสัญญาณ"
   ]
  },
  {
   "cell_type": "code",
   "execution_count": null,
   "metadata": {},
   "outputs": [],
   "source": [
    "test_signal = bpsk_baseband\n",
    "\n",
    "sig_tx = test_signal.copy()\n",
    "sig_rx = test_signal.copy()\n",
    "\n",
    "band = (CARRIER_FREQ-BAUD,CARRIER_FREQ+BAUD)\n",
    "print(\"frequency band:\",band)\n",
    "sig_rx.filter(band)\n",
    "\n",
    "fig = bkp.figure(height=300)\n",
    "sig_tx.plot_time(fig=fig,line_options=dict(color=\"green\",line_width=2))\n",
    "sig_rx.plot_time(fig=fig,line_options=dict(color=\"red\",line_width=1))\n",
    "bkp.show(fig)"
   ]
  }
 ],
 "metadata": {
  "kernelspec": {
   "display_name": "Python 3",
   "language": "python",
   "name": "python3"
  },
  "language_info": {
   "codemirror_mode": {
    "name": "ipython",
    "version": 3
   },
   "file_extension": ".py",
   "mimetype": "text/x-python",
   "name": "python",
   "nbconvert_exporter": "python",
   "pygments_lexer": "ipython3",
   "version": "3.7.2"
  }
 },
 "nbformat": 4,
 "nbformat_minor": 1
}
